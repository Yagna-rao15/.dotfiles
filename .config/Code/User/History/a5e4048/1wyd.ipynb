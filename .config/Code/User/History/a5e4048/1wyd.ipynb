{
 "cells": [
  {
   "cell_type": "markdown",
   "id": "afced9a2-df65-4293-a299-0064eb4e7983",
   "metadata": {},
   "source": [
    "# Introduction to NumPy\n",
    "\n",
    "NumPy is a fundamental package for scientific computing in Python. It provides support for arrays, matrices, and many mathematical functions to operate on these data structures efficiently. In this notebook, we'll explore some of the core features and methods of NumPy.\n",
    "\n",
    "## Installation\n",
    "\n",
    "If you haven't installed NumPy yet, you can do so using pip:\n",
    "\n",
    "```bash\n",
    "pip install numpy\n"
   ]
  },
  {
   "cell_type": "code",
   "execution_count": 1,
   "id": "8bbaea07-3be5-4c91-9b9b-97bd56631636",
   "metadata": {},
   "outputs": [],
   "source": [
    "import numpy as np"
   ]
  },
  {
   "cell_type": "code",
   "execution_count": 2,
   "id": "7d91f593-c398-4e06-ac14-4dc90793f40b",
   "metadata": {},
   "outputs": [
    {
     "name": "stdout",
     "output_type": "stream",
     "text": [
      "[1 2 3 4 5]\n",
      "[1 2 3 4 5]\n"
     ]
    }
   ],
   "source": [
    "import numpy as np\n",
    "\n",
    "# From a list\n",
    "array_from_list = np.array([1, 2, 3, 4, 5])\n",
    "print(array_from_list)\n",
    "\n",
    "# From a tuple\n",
    "array_from_tuple = np.array((1, 2, 3, 4, 5))\n",
    "print(array_from_tuple)\n"
   ]
  },
  {
   "cell_type": "code",
   "execution_count": 3,
   "id": "f61774f5-53d8-4b76-8511-a1b69ef69393",
   "metadata": {},
   "outputs": [
    {
     "name": "stdout",
     "output_type": "stream",
     "text": [
      "Zeros Array:\n",
      " [[0. 0. 0. 0.]\n",
      " [0. 0. 0. 0.]\n",
      " [0. 0. 0. 0.]]\n",
      "Ones Array:\n",
      " [[1. 1. 1.]\n",
      " [1. 1. 1.]]\n",
      "Full Array:\n",
      " [[7 7]\n",
      " [7 7]]\n"
     ]
    }
   ],
   "source": [
    "# Creating an array of zeros\n",
    "zeros_array = np.zeros((3, 4))\n",
    "print(\"Zeros Array:\\n\", zeros_array)\n",
    "\n",
    "# Creating an array of ones\n",
    "ones_array = np.ones((2, 3))\n",
    "print(\"Ones Array:\\n\", ones_array)\n",
    "\n",
    "# Creating an array filled with a specific value\n",
    "full_array = np.full((2, 2), 7)\n",
    "print(\"Full Array:\\n\", full_array)\n"
   ]
  },
  {
   "cell_type": "code",
   "execution_count": 4,
   "id": "13075994-4072-44e6-b656-c8dfbe7c063e",
   "metadata": {},
   "outputs": [
    {
     "name": "stdout",
     "output_type": "stream",
     "text": [
      "Range Array:\n",
      " [0 2 4 6 8]\n",
      "Linspace Array:\n",
      " [0.   0.25 0.5  0.75 1.  ]\n"
     ]
    }
   ],
   "source": [
    "# Array with a range of values\n",
    "range_array = np.arange(0, 10, 2)\n",
    "print(\"Range Array:\\n\", range_array)\n",
    "\n",
    "# Array with evenly spaced values\n",
    "linspace_array = np.linspace(0, 1, 5)\n",
    "print(\"Linspace Array:\\n\", linspace_array)\n"
   ]
  },
  {
   "cell_type": "code",
   "execution_count": 5,
   "id": "64781f0c-6732-4651-b501-16712d9f3892",
   "metadata": {},
   "outputs": [
    {
     "name": "stdout",
     "output_type": "stream",
     "text": [
      "Shape: (2, 3)\n",
      "Number of Dimensions: 2\n",
      "Total Number of Elements: 6\n",
      "Data Type: int64\n"
     ]
    }
   ],
   "source": [
    "# Example array\n",
    "array = np.array([[1, 2, 3], [4, 5, 6]])\n",
    "\n",
    "# Shape\n",
    "print(\"Shape:\", array.shape)\n",
    "\n",
    "# Dimensions\n",
    "print(\"Number of Dimensions:\", array.ndim)\n",
    "\n",
    "# Size\n",
    "print(\"Total Number of Elements:\", array.size)\n",
    "\n",
    "# Data Type\n",
    "print(\"Data Type:\", array.dtype)\n"
   ]
  },
  {
   "cell_type": "code",
   "execution_count": 6,
   "id": "7f009a98-dcbf-4a10-b0b4-979f5294fa4e",
   "metadata": {},
   "outputs": [
    {
     "name": "stdout",
     "output_type": "stream",
     "text": [
      "Sum Array: [5 7 9]\n",
      "Product Array: [ 4 10 18]\n",
      "Broadcasted Array:\n",
      " [[11 21 31]\n",
      " [12 22 32]\n",
      " [13 23 33]]\n"
     ]
    }
   ],
   "source": [
    "# Element-wise operations\n",
    "array1 = np.array([1, 2, 3])\n",
    "array2 = np.array([4, 5, 6])\n",
    "\n",
    "# Addition\n",
    "sum_array = array1 + array2\n",
    "print(\"Sum Array:\", sum_array)\n",
    "\n",
    "# Multiplication\n",
    "product_array = array1 * array2\n",
    "print(\"Product Array:\", product_array)\n",
    "\n",
    "# Broadcasting\n",
    "array3 = np.array([[1], [2], [3]])\n",
    "broadcasted_array = array3 + np.array([10, 20, 30])\n",
    "print(\"Broadcasted Array:\\n\", broadcasted_array)\n"
   ]
  },
  {
   "cell_type": "code",
   "execution_count": 7,
   "id": "ff1ac5ac-fbb5-4f21-931d-0e4b90442f80",
   "metadata": {},
   "outputs": [
    {
     "name": "stdout",
     "output_type": "stream",
     "text": [
      "Sum: 15\n",
      "Mean: 3.0\n",
      "Standard Deviation: 1.4142135623730951\n"
     ]
    }
   ],
   "source": [
    "# Example array\n",
    "array = np.array([1, 2, 3, 4, 5])\n",
    "\n",
    "# Sum\n",
    "print(\"Sum:\", np.sum(array))\n",
    "\n",
    "# Mean\n",
    "print(\"Mean:\", np.mean(array))\n",
    "\n",
    "# Standard Deviation\n",
    "print(\"Standard Deviation:\", np.std(array))\n"
   ]
  },
  {
   "cell_type": "code",
   "execution_count": 8,
   "id": "b2f52184-91bc-4d6a-ac98-5017400d70d2",
   "metadata": {},
   "outputs": [
    {
     "name": "stdout",
     "output_type": "stream",
     "text": [
      "Element at position (1, 2): 6\n",
      "Sliced Array:\n",
      " [[2 3]\n",
      " [5 6]]\n"
     ]
    }
   ],
   "source": [
    "# Example array\n",
    "array = np.array([[1, 2, 3], [4, 5, 6]])\n",
    "\n",
    "# Accessing an element\n",
    "element = array[1, 2]\n",
    "print(\"Element at position (1, 2):\", element)\n",
    "\n",
    "# Slicing\n",
    "slice_array = array[0:2, 1:3]\n",
    "print(\"Sliced Array:\\n\", slice_array)\n"
   ]
  },
  {
   "cell_type": "code",
   "execution_count": 9,
   "id": "8f376711-7bb4-404d-bf0b-9b056a20822e",
   "metadata": {},
   "outputs": [
    {
     "name": "stdout",
     "output_type": "stream",
     "text": [
      "Square Root Array: [1.         1.41421356 1.73205081 2.         2.23606798]\n",
      "Exponential Array: [  2.71828183   7.3890561   20.08553692  54.59815003 148.4131591 ]\n",
      "Sine Array: [ 0.84147098  0.90929743  0.14112001 -0.7568025  -0.95892427]\n"
     ]
    }
   ],
   "source": [
    "# Example array\n",
    "array = np.array([1, 2, 3, 4, 5])\n",
    "\n",
    "# Square root\n",
    "sqrt_array = np.sqrt(array)\n",
    "print(\"Square Root Array:\", sqrt_array)\n",
    "\n",
    "# Exponential\n",
    "exp_array = np.exp(array)\n",
    "print(\"Exponential Array:\", exp_array)\n",
    "\n",
    "# Trigonometric functions\n",
    "sin_array = np.sin(array)\n",
    "print(\"Sine Array:\", sin_array)\n"
   ]
  },
  {
   "cell_type": "code",
   "execution_count": 10,
   "id": "9c62131d-f651-4fe0-a04a-460bbb3cedfc",
   "metadata": {},
   "outputs": [
    {
     "name": "stdout",
     "output_type": "stream",
     "text": [
      "Matrix Product:\n",
      " [[19 22]\n",
      " [43 50]]\n",
      "Determinant: -2.0000000000000004\n"
     ]
    }
   ],
   "source": [
    "# Example matrices\n",
    "matrix_a = np.array([[1, 2], [3, 4]])\n",
    "matrix_b = np.array([[5, 6], [7, 8]])\n",
    "\n",
    "# Matrix multiplication\n",
    "product_matrix = np.matmul(matrix_a, matrix_b)\n",
    "print(\"Matrix Product:\\n\", product_matrix)\n",
    "\n",
    "# Determinant\n",
    "determinant = np.linalg.det(matrix_a)\n",
    "print(\"Determinant:\", determinant)\n"
   ]
  },
  {
   "cell_type": "code",
   "execution_count": 11,
   "id": "81b3d3d3-7e64-44c7-8749-4bbcbafce9b4",
   "metadata": {},
   "outputs": [
    {
     "name": "stdout",
     "output_type": "stream",
     "text": [
      "Random Integers Array:\n",
      " [[0 5 5]\n",
      " [6 3 9]\n",
      " [0 0 6]]\n",
      "Random Floats Array:\n",
      " [[0.03482069 0.63452073 0.74445767]\n",
      " [0.34084384 0.47052589 0.38391158]\n",
      " [0.70513163 0.38612648 0.46310183]]\n",
      "Normal Distribution Array:\n",
      " [[-0.15701946 -1.26294739  1.64175884]\n",
      " [-0.97885166  0.83026245 -0.33026098]\n",
      " [-0.69028911  0.08192298  2.55450251]]\n"
     ]
    }
   ],
   "source": [
    "# Random integers\n",
    "rand_integers = np.random.randint(0, 10, size=(3, 3))\n",
    "print(\"Random Integers Array:\\n\", rand_integers)\n",
    "\n",
    "# Random floats\n",
    "rand_floats = np.random.rand(3, 3)\n",
    "print(\"Random Floats Array:\\n\", rand_floats)\n",
    "\n",
    "# Normal distribution\n",
    "normal_dist = np.random.randn(3, 3)\n",
    "print(\"Normal Distribution Array:\\n\", normal_dist)\n"
   ]
  },
  {
   "cell_type": "code",
   "execution_count": null,
   "id": "0fcfcd47",
   "metadata": {},
   "outputs": [],
   "source": []
  }
 ],
 "metadata": {
  "kernelspec": {
   "display_name": "usr",
   "language": "python",
   "name": "python3"
  },
  "language_info": {
   "codemirror_mode": {
    "name": "ipython",
    "version": 3
   },
   "file_extension": ".py",
   "mimetype": "text/x-python",
   "name": "python",
   "nbconvert_exporter": "python",
   "pygments_lexer": "ipython3",
   "version": "3.13.1"
  }
 },
 "nbformat": 4,
 "nbformat_minor": 5
}
