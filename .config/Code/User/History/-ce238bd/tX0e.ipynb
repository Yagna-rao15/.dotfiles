{
 "cells": [
  {
   "cell_type": "code",
   "execution_count": 1,
   "id": "94bbd07c-2173-43ac-9edb-c3e276e668e9",
   "metadata": {},
   "outputs": [
    {
     "ename": "ModuleNotFoundError",
     "evalue": "No module named 'tensorflow'",
     "output_type": "error",
     "traceback": [
      "\u001b[0;31m---------------------------------------------------------------------------\u001b[0m",
      "\u001b[0;31mModuleNotFoundError\u001b[0m                       Traceback (most recent call last)",
      "Cell \u001b[0;32mIn[1], line 1\u001b[0m\n\u001b[0;32m----> 1\u001b[0m \u001b[38;5;28;01mimport\u001b[39;00m \u001b[38;5;21;01mtensorflow\u001b[39;00m \u001b[38;5;28;01mas\u001b[39;00m \u001b[38;5;21;01mtf\u001b[39;00m\n\u001b[1;32m      2\u001b[0m \u001b[38;5;28;01mimport\u001b[39;00m \u001b[38;5;21;01mtime\u001b[39;00m\n\u001b[1;32m      3\u001b[0m \u001b[38;5;28;01mfrom\u001b[39;00m \u001b[38;5;21;01mtensorflow\u001b[39;00m\u001b[38;5;21;01m.\u001b[39;00m\u001b[38;5;21;01mkeras\u001b[39;00m\u001b[38;5;21;01m.\u001b[39;00m\u001b[38;5;21;01mbackend\u001b[39;00m \u001b[38;5;28;01mimport\u001b[39;00m clear_session\n",
      "\u001b[0;31mModuleNotFoundError\u001b[0m: No module named 'tensorflow'"
     ]
    }
   ],
   "source": [
    "import tensorflow as tf\n",
    "import time\n",
    "from tensorflow.keras.backend import clear_session"
   ]
  },
  {
   "cell_type": "code",
   "execution_count": null,
   "id": "26dd51bd-4ab1-4b64-b88f-40ec91a53850",
   "metadata": {},
   "outputs": [],
   "source": [
    "# List available physical devices\n",
    "physical_devices = tf.config.list_physical_devices(\"GPU\")\n",
    "print(\"Num GPUs Available: \", len(physical_devices))"
   ]
  },
  {
   "cell_type": "code",
   "execution_count": null,
   "id": "35a5ac60-38da-4a8c-8bba-9e0e7f6cf28a",
   "metadata": {},
   "outputs": [],
   "source": [
    "if physical_devices:\n",
    "    print(\"TensorFlow is using the GPU\")\n",
    "    for gpu in physical_devices:\n",
    "        tf.config.experimental.set_memory_growth(gpu, True)\n",
    "        print(gpu)\n",
    "else:\n",
    "    print(\"TensorFlow is not using the GPU\")\n",
    "# Simple TensorFlow computation to test GPU utilization\n",
    "a = tf.random.normal((5000, 5000))\n",
    "b = tf.random.normal((5000, 5000))"
   ]
  },
  {
   "cell_type": "code",
   "execution_count": null,
   "id": "ca23bd89-1803-4c26-8de2-c9800faa75e9",
   "metadata": {},
   "outputs": [],
   "source": [
    "# Perform a matrix multiplication\n",
    "start_time = time.time()\n",
    "result = tf.matmul(a, b)\n",
    "end_time = time.time()\n",
    "clear_session()\n",
    "print(\"Operation completed\")\n",
    "print(f\"Time taken for computation: {end_time - start_time} seconds\")"
   ]
  }
 ],
 "metadata": {
  "kernelspec": {
   "display_name": "Python 3",
   "language": "python",
   "name": "python3"
  },
  "language_info": {
   "codemirror_mode": {
    "name": "ipython",
    "version": 3
   },
   "file_extension": ".py",
   "mimetype": "text/x-python",
   "name": "python",
   "nbconvert_exporter": "python",
   "pygments_lexer": "ipython3",
   "version": "3.13.1"
  }
 },
 "nbformat": 4,
 "nbformat_minor": 5
}
