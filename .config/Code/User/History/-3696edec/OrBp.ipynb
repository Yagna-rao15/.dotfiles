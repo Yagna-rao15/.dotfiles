{
 "cells": [
  {
   "cell_type": "code",
   "execution_count": 1,
   "id": "c624da02-ff60-4365-a653-cadd01de0cdb",
   "metadata": {},
   "outputs": [
    {
     "data": {
      "text/plain": [
       "'numpy.ndarray is a data structure, a multidimensional array that allows the storage and manipulation of numerical data\\nNumPy contains many functions that allow operations to be performed element-wise on arrays.\\nNumPy supports linear algebra such as matrix multiplication, eigenvalue decomposition, and solving linear equations.'"
      ]
     },
     "execution_count": 1,
     "metadata": {},
     "output_type": "execute_result"
    }
   ],
   "source": [
    "\"\"\"NumPy stands for Numerical Python, is an open-source Python library that\n",
    "   provides support for large, multi-dimensional arrays and matrices.\"\"\"\n",
    "\n",
    "\"\"\"numpy.ndarray is a data structure, a multidimensional array that allows the storage and manipulation of numerical data\n",
    "NumPy contains many functions that allow operations to be performed element-wise on arrays.\n",
    "NumPy supports linear algebra such as matrix multiplication, eigenvalue decomposition, and solving linear equations.\"\"\""
   ]
  },
  {
   "cell_type": "code",
   "execution_count": 2,
   "id": "8bbaea07-3be5-4c91-9b9b-97bd56631636",
   "metadata": {},
   "outputs": [],
   "source": [
    "import numpy as np"
   ]
  },
  {
   "cell_type": "code",
   "execution_count": 3,
   "id": "7d91f593-c398-4e06-ac14-4dc90793f40b",
   "metadata": {},
   "outputs": [
    {
     "name": "stdout",
     "output_type": "stream",
     "text": [
      "array type: <class 'numpy.ndarray'>\n",
      "array dimensions: 2\n",
      "[[1 2 3 4]\n",
      " [5 6 7 8]]\n",
      "array shape: (2, 4)\n",
      "array size: 8\n",
      "elements data type: int64\n"
     ]
    }
   ],
   "source": [
    "\n",
    "\n",
    "arr=np.array([[1,2,3,4],\n",
    "              [5,6,7,8]])\n",
    "\n",
    "\n",
    "\n",
    "print(\"array type:\",type(arr))\n",
    "\n",
    "print(\"array dimensions:\",arr.ndim)\n",
    "\n",
    "print(arr)\n",
    "\n",
    "print(\"array shape:\",arr.shape)\n",
    "\n",
    "print(\"array size:\",arr.size)\n",
    "\n",
    "print(\"elements data type:\",arr.dtype)"
   ]
  },
  {
   "cell_type": "code",
   "execution_count": 4,
   "id": "f61774f5-53d8-4b76-8511-a1b69ef69393",
   "metadata": {},
   "outputs": [
    {
     "name": "stdout",
     "output_type": "stream",
     "text": [
      "array created with tuple\n",
      "elements data type: int64\n",
      "[1 2 3]\n",
      "array created with list\n",
      "elements data type: float64\n",
      "[[1. 2. 3.]\n",
      " [4. 5. 6.]]\n"
     ]
    }
   ],
   "source": [
    "arr=np.array((1,2,3))\n",
    "print(\"array created with tuple\")\n",
    "#by tuple we can create only 1*n dimensional array only\n",
    "print(\"elements data type:\",arr.dtype)\n",
    "print(arr)\n",
    "print(\"array created with list\")\n",
    "arr1=np.array([[1,2,3],[4,5,6]],dtype='float')\n",
    "print(\"elements data type:\",arr1.dtype)\n",
    "print(arr1)"
   ]
  },
  {
   "cell_type": "code",
   "execution_count": 5,
   "id": "13075994-4072-44e6-b656-c8dfbe7c063e",
   "metadata": {},
   "outputs": [
    {
     "name": "stdout",
     "output_type": "stream",
     "text": [
      "array with all zeroes\n",
      "[[0. 0. 0. 0.]\n",
      " [0. 0. 0. 0.]\n",
      " [0. 0. 0. 0.]]\n",
      "datatype: float64\n",
      "size: 12\n",
      "shape: (3, 4)\n",
      "array with ones\n",
      "[[1. 1. 1. 1.]\n",
      " [1. 1. 1. 1.]\n",
      " [1. 1. 1. 1.]]\n",
      "array with other numbers\n",
      "[[5. 5. 5. 5.]\n",
      " [5. 5. 5. 5.]\n",
      " [5. 5. 5. 5.]]\n",
      "datatype: float64\n",
      "array with random numbers:\n",
      "[[0.83465949 0.98586481 0.60714082 0.16205027]\n",
      " [0.06447387 0.34150256 0.15495737 0.76327829]\n",
      " [0.02486708 0.20831212 0.97455607 0.40327067]]\n",
      "datatype: float64\n"
     ]
    }
   ],
   "source": [
    "print(\"array with all zeroes\")\n",
    "arr=np.zeros((3,4))\n",
    "\n",
    "print(arr)\n",
    "print(\"datatype:\",arr.dtype)\n",
    "print(\"size:\",arr.size)\n",
    "print(\"shape:\",arr.shape)\n",
    "\n",
    "print(\"array with ones\")\n",
    "arr1=np.ones((3,4))\n",
    "print(arr1)\n",
    "\n",
    "print(\"array with other numbers\")\n",
    "arr2=np.full((3,4),5,dtype='float')\n",
    "print(arr2)\n",
    "print(\"datatype:\",arr2.dtype)\n",
    "\n",
    "print(\"array with random numbers:\")\n",
    "arr3=np.random.random((3,4))\n",
    "print(arr3)\n",
    "print(\"datatype:\",arr3.dtype)"
   ]
  },
  {
   "cell_type": "code",
   "execution_count": 6,
   "id": "64781f0c-6732-4651-b501-16712d9f3892",
   "metadata": {},
   "outputs": [
    {
     "name": "stdout",
     "output_type": "stream",
     "text": [
      "[[1 2 3 4]\n",
      " [5 6 7 8]]\n",
      "\n",
      "\n",
      "[6 7 8]\n",
      "\n",
      "\n",
      "[[1 2 3]\n",
      " [5 6 7]\n",
      " [9 3 5]]\n",
      "\n",
      "\n",
      "[3 7 5]\n",
      "\n",
      "\n",
      "[[1 3]\n",
      " [5 7]]\n",
      "\n",
      "Elements at indices (0, 2), (1, 1), (2, 0):\n",
      " [3 6 9]\n"
     ]
    }
   ],
   "source": [
    "#slicing\n",
    "#[start:end:step]\n",
    "\n",
    "arr=np.array([[1,2,3,4],[5,6,7,8],[9,3,5,4]])\n",
    "\n",
    "print(arr[:2])\n",
    "print(\"\\n\")\n",
    "print(arr[1,1:4])\n",
    "print(\"\\n\")\n",
    "print(arr[0:3,0:3])\n",
    "print(\"\\n\")\n",
    "print(arr[0:3,2])\n",
    "print(\"\\n\")\n",
    "print(arr[:2,::2])\n",
    "temp=arr[[0,1,2],[2,1,0]]\n",
    "print (\"\\nElements at indices (0, 2), (1, 1), (2, 0):\\n\", temp)"
   ]
  },
  {
   "cell_type": "code",
   "execution_count": 7,
   "id": "7f009a98-dcbf-4a10-b0b4-979f5294fa4e",
   "metadata": {},
   "outputs": [
    {
     "name": "stdout",
     "output_type": "stream",
     "text": [
      "original arr:\n",
      " [[ 1  2  3  4]\n",
      " [ 5  2  4  2]\n",
      " [ 1  2 10  9]]\n",
      "reshaped arr:\n",
      " [[[ 1  2  3]\n",
      "  [ 4  5  2]]\n",
      "\n",
      " [[ 4  2  1]\n",
      "  [ 2 10  9]]]\n"
     ]
    }
   ],
   "source": [
    "#reshaping\n",
    "#3*3=2*2*3\n",
    "arr = np.array([[1, 2, 3, 4],[5, 2, 4, 2],[1, 2, 10, 9]])\n",
    "\n",
    "new_arr=arr.reshape(2,2,3)\n",
    "print(\"original arr:\\n\",arr)\n",
    "print(\"reshaped arr:\\n\",new_arr)"
   ]
  },
  {
   "cell_type": "code",
   "execution_count": 8,
   "id": "ff1ac5ac-fbb5-4f21-931d-0e4b90442f80",
   "metadata": {},
   "outputs": [
    {
     "name": "stdout",
     "output_type": "stream",
     "text": [
      "original arr:\n",
      " [[1 2 3 4]\n",
      " [5 2 4 2]\n",
      " [1 2 0 1]]\n",
      "reshaped arr:\n",
      " [1 2 3 4 5 2 4 2 1 2 0 1]\n"
     ]
    }
   ],
   "source": [
    "#flatten\n",
    "\n",
    "arr = np.array([[1, 2, 3, 4],[5, 2, 4, 2],[1, 2, 0, 1]])\n",
    "flat=arr.flatten()\n",
    "print(\"original arr:\\n\",arr)\n",
    "print(\"reshaped arr:\\n\",flat)"
   ]
  },
  {
   "cell_type": "code",
   "execution_count": 9,
   "id": "b2f52184-91bc-4d6a-ac98-5017400d70d2",
   "metadata": {},
   "outputs": [
    {
     "name": "stdout",
     "output_type": "stream",
     "text": [
      "[[2 3 4 5]\n",
      " [6 3 5 3]\n",
      " [2 3 1 2]]\n",
      "[[-1  0  1  2]\n",
      " [ 3  0  2  0]\n",
      " [-1  0 -2 -1]]\n",
      "[[ 2  4  6  8]\n",
      " [10  4  8  4]\n",
      " [ 2  4  0  2]]\n",
      "transpose of array:\n",
      "[[1 5 1]\n",
      " [2 2 2]\n",
      " [3 4 0]\n",
      " [4 2 1]]\n"
     ]
    }
   ],
   "source": [
    "#arithmetic operations\n",
    "arr = np.array([[1, 2, 3, 4],[5, 2, 4, 2],[1, 2, 0, 1]])\n",
    "print(arr+1)\n",
    "print(arr-2)\n",
    "print(arr*2)\n",
    "print(\"transpose of array:\")\n",
    "print(arr.T)"
   ]
  },
  {
   "cell_type": "code",
   "execution_count": 10,
   "id": "8f376711-7bb4-404d-bf0b-9b056a20822e",
   "metadata": {},
   "outputs": [
    {
     "name": "stdout",
     "output_type": "stream",
     "text": [
      "largest element of array: 5\n",
      "smallest element of array: 0\n",
      "row wiselargest element of array: [4 5 2]\n",
      "column wise smallest element of array: [1 2 0 1]\n",
      "sum of all array elements: 27\n",
      "cummulative sum along each row: [[ 1  3  6 10]\n",
      " [ 5  7 11 13]\n",
      " [ 1  3  3  4]]\n"
     ]
    }
   ],
   "source": [
    "arr = np.array([[1, 2, 3, 4],[5, 2, 4, 2],[1, 2, 0, 1]])\n",
    "print(\"largest element of array:\",arr.max())\n",
    "print(\"smallest element of array:\",arr.min())\n",
    "print(\"row wiselargest element of array:\",arr.max(axis=1))\n",
    "print(\"column wise smallest element of array:\",arr.min(axis=0))\n",
    "print(\"sum of all array elements:\",arr.sum())\n",
    "print(\"cummulative sum along each row:\",arr.cumsum(axis=1))"
   ]
  },
  {
   "cell_type": "code",
   "execution_count": 11,
   "id": "9c62131d-f651-4fe0-a04a-460bbb3cedfc",
   "metadata": {},
   "outputs": [
    {
     "name": "stdout",
     "output_type": "stream",
     "text": [
      "sum of 2 arrays:\n",
      " [[3 7]\n",
      " [5 7]]\n",
      "sub of 2 arrays:\n",
      " [[-1 -3]\n",
      " [ 5  5]]\n",
      "multiply element wise of 2 arrays:\n",
      " [[ 2 10]\n",
      " [ 0  6]]\n",
      "matrix multiplication of 2 arrays:\n",
      " [[ 2  7]\n",
      " [10 31]]\n"
     ]
    }
   ],
   "source": [
    "a=np.array([[1,2],[5,6]])\n",
    "b=np.array([[2,5],[0,1]])\n",
    "print(\"sum of 2 arrays:\\n\",a+b)\n",
    "print(\"sub of 2 arrays:\\n\",a-b)\n",
    "print(\"multiply element wise of 2 arrays:\\n\",a*b)\n",
    "print(\"matrix multiplication of 2 arrays:\\n\",a.dot(b))"
   ]
  },
  {
   "cell_type": "code",
   "execution_count": 12,
   "id": "81b3d3d3-7e64-44c7-8749-4bbcbafce9b4",
   "metadata": {},
   "outputs": [
    {
     "name": "stdout",
     "output_type": "stream",
     "text": [
      "exponent of array:\n",
      " [2.71828183e+00 5.45981500e+01 4.03428793e+02 8.10308393e+03]\n",
      "sqrt of array:\n",
      " [1.         2.         2.44948974 3.        ]\n"
     ]
    }
   ],
   "source": [
    "arr=np.array([1,4,6,9])\n",
    "print(\"exponent of array:\\n\",np.exp(arr))\n",
    "print(\"sqrt of array:\\n\",np.sqrt(arr))"
   ]
  },
  {
   "cell_type": "code",
   "execution_count": 13,
   "id": "04701d8e-a116-4ca8-809d-5428374dedba",
   "metadata": {},
   "outputs": [
    {
     "name": "stdout",
     "output_type": "stream",
     "text": [
      "sorted array:\n",
      " [0 1 1 1 2 2 2 2 3 4 4 5]\n",
      "row wise sorted array:\n",
      " [[1 2 3 4]\n",
      " [2 2 4 5]\n",
      " [0 1 1 2]]\n",
      "column wise sorted array:\n",
      " [[1 2 0 1]\n",
      " [1 2 3 2]\n",
      " [5 2 4 4]]\n",
      "colums wise sorted array using merge sort:\n",
      " [[1 2 0 1]\n",
      " [1 2 3 2]\n",
      " [5 2 4 4]]\n"
     ]
    }
   ],
   "source": [
    "#sorting\n",
    "arr = np.array([[1, 2, 3, 4],[5, 2, 4, 2],[1, 2, 0, 1]])\n",
    "print(\"sorted array:\\n\",np.sort(arr,axis=None))\n",
    "print(\"row wise sorted array:\\n\",np.sort(arr,axis=1))\n",
    "print(\"column wise sorted array:\\n\",np.sort(arr,axis=0))\n",
    "print(\"colums wise sorted array using merge sort:\\n\",np.sort(arr,axis=0,kind='mergesort'))"
   ]
  },
  {
   "cell_type": "code",
   "execution_count": 14,
   "id": "86f7c158-f904-45f2-9a52-d19055f3c59e",
   "metadata": {},
   "outputs": [
    {
     "name": "stdout",
     "output_type": "stream",
     "text": [
      "\n",
      "Array sorted by names:\n",
      " [(b'Aakash', 2009, 9. ) (b'Hrithik', 2009, 8.5) (b'balaji', 2008, 8.7)\n",
      " (b'yagna', 2008, 7.9)]\n",
      "\n",
      "Array sorted by names:\n",
      " [(b'yagna', 2008, 7.9) (b'Hrithik', 2009, 8.5) (b'balaji', 2008, 8.7)\n",
      " (b'Aakash', 2009, 9. )]\n"
     ]
    }
   ],
   "source": [
    "# Example to show sorting of structured array\n",
    "# set alias names for dtypes\n",
    "\n",
    "dtypes = [('name', 'S10'), ('grad_year', int), ('cgpa', float)]\n",
    "#s10 here means string with maxlength 10\n",
    "# Values to be put in array\n",
    "values = [('Hrithik', 2009, 8.5), ('balaji', 2008, 8.7), \n",
    "           ('yagna', 2008, 7.9), ('Aakash', 2009, 9.0)]\n",
    "\n",
    "arr=np.array(values,dtype=dtypes)\n",
    "print (\"\\nArray sorted by names:\\n\",np.sort(arr,order='name'))\n",
    "print (\"\\nArray sorted by names:\\n\",np.sort(arr,order=['cgpa','grad_year']))"
   ]
  }
 ],
 "metadata": {
  "kernelspec": {
   "display_name": "usr",
   "language": "python",
   "name": "python3"
  },
  "language_info": {
   "codemirror_mode": {
    "name": "ipython",
    "version": 3
   },
   "file_extension": ".py",
   "mimetype": "text/x-python",
   "name": "python",
   "nbconvert_exporter": "python",
   "pygments_lexer": "ipython3",
   "version": "3.13.1"
  }
 },
 "nbformat": 4,
 "nbformat_minor": 5
}
